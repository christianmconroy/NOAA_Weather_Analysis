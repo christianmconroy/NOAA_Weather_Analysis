{
 "cells": [
  {
   "cell_type": "markdown",
   "id": "56c5ed3e-ea6b-4fb7-9ac7-04b46120ffb5",
   "metadata": {},
   "source": [
    "# Predicting CA Wildfires from Weather Data"
   ]
  },
  {
   "cell_type": "markdown",
   "id": "a7b9bcf3-862e-434f-a4ec-fb0d343c66a0",
   "metadata": {},
   "source": [
    "## Import Packages"
   ]
  },
  {
   "cell_type": "code",
   "execution_count": 40,
   "id": "7eaa846d-6885-4054-8d0e-f474a6c84411",
   "metadata": {},
   "outputs": [],
   "source": [
    "import matplotlib.pyplot as plt\n",
    "import numpy as np \n",
    "\n",
    "\n",
    "from shapely.geometry import Point,Polygon\n",
    "import geopandas as gpd\n",
    "import descartes\n",
    "import pandas as pd\n",
    "import glob\n",
    "import os\n",
    "from functools import reduce\n",
    "import seaborn as sns\n",
    "import sklearn \n",
    "from sklearn.model_selection import train_test_split\n",
    "\n",
    "from sklearn.metrics import mean_squared_error\n",
    "from sklearn.preprocessing import LabelEncoder\n",
    "from sklearn.utils import resample\n",
    "\n",
    "from sklearn.neighbors import KNeighborsRegressor\n",
    "from sklearn.linear_model import LinearRegression\n",
    "from sklearn.linear_model import Ridge\n",
    "from sklearn.linear_model import Lasso\n",
    "from sklearn.tree import DecisionTreeRegressor\n",
    "from sklearn.ensemble import RandomForestRegressor\n",
    "from sklearn.model_selection import RandomizedSearchCV\n",
    "from sklearn.linear_model import SGDRegressor\n",
    "from sklearn.ensemble import GradientBoostingRegressor\n",
    "import xgboost"
   ]
  },
  {
   "cell_type": "markdown",
   "id": "b9ad2ed9-e7e6-417c-a4ae-297b80f05cd2",
   "metadata": {},
   "source": [
    "## Set up Buckets"
   ]
  },
  {
   "cell_type": "code",
   "execution_count": 41,
   "id": "a4ac20b7-46c7-4d39-9e95-59741cd50b20",
   "metadata": {},
   "outputs": [],
   "source": [
    "output_bucket = \"C:/Users/Christian Conroy/Documents/2021_2022/Job Search/Applications/ATT/NOAA_Weather_Analysis/outputs/\""
   ]
  },
  {
   "cell_type": "markdown",
   "id": "4f09be4b-c899-4de1-acbd-21a7ce391ab5",
   "metadata": {},
   "source": [
    "## Load Data"
   ]
  },
  {
   "cell_type": "code",
   "execution_count": 42,
   "id": "8187e9a8-6d0a-47e4-aa2f-f1ab924a189e",
   "metadata": {},
   "outputs": [
    {
     "data": {
      "text/html": [
       "<div>\n",
       "<style scoped>\n",
       "    .dataframe tbody tr th:only-of-type {\n",
       "        vertical-align: middle;\n",
       "    }\n",
       "\n",
       "    .dataframe tbody tr th {\n",
       "        vertical-align: top;\n",
       "    }\n",
       "\n",
       "    .dataframe thead th {\n",
       "        text-align: right;\n",
       "    }\n",
       "</style>\n",
       "<table border=\"1\" class=\"dataframe\">\n",
       "  <thead>\n",
       "    <tr style=\"text-align: right;\">\n",
       "      <th></th>\n",
       "      <th>year</th>\n",
       "      <th>month</th>\n",
       "      <th>STATEFP</th>\n",
       "      <th>COUNTYFP</th>\n",
       "      <th>COUNTYNS</th>\n",
       "      <th>GEOID</th>\n",
       "      <th>NAME</th>\n",
       "      <th>NAMELSAD</th>\n",
       "      <th>LSAD</th>\n",
       "      <th>CLASSFP</th>\n",
       "      <th>...</th>\n",
       "      <th>sea_lvl_press_hectoPamin</th>\n",
       "      <th>sea_lvl_press_hectoPamax</th>\n",
       "      <th>wnd_dir_360max</th>\n",
       "      <th>wnd_spd_mtrpersecmin</th>\n",
       "      <th>wnd_spd_mtrpersecmax</th>\n",
       "      <th>sky_conditionmax</th>\n",
       "      <th>precip_hrlymin</th>\n",
       "      <th>precip_hrlymax</th>\n",
       "      <th>FID</th>\n",
       "      <th>approx_county_acres_burned</th>\n",
       "    </tr>\n",
       "  </thead>\n",
       "  <tbody>\n",
       "    <tr>\n",
       "      <th>0</th>\n",
       "      <td>2016</td>\n",
       "      <td>1</td>\n",
       "      <td>6</td>\n",
       "      <td>17</td>\n",
       "      <td>277273</td>\n",
       "      <td>6017</td>\n",
       "      <td>El Dorado</td>\n",
       "      <td>El Dorado County</td>\n",
       "      <td>6</td>\n",
       "      <td>H1</td>\n",
       "      <td>...</td>\n",
       "      <td>1000.5</td>\n",
       "      <td>1032.6</td>\n",
       "      <td>360.0</td>\n",
       "      <td>0.0</td>\n",
       "      <td>9.9</td>\n",
       "      <td>9.0</td>\n",
       "      <td>0.0</td>\n",
       "      <td>7.1</td>\n",
       "      <td>0.0</td>\n",
       "      <td>0.0</td>\n",
       "    </tr>\n",
       "    <tr>\n",
       "      <th>1</th>\n",
       "      <td>2016</td>\n",
       "      <td>2</td>\n",
       "      <td>6</td>\n",
       "      <td>17</td>\n",
       "      <td>277273</td>\n",
       "      <td>6017</td>\n",
       "      <td>El Dorado</td>\n",
       "      <td>El Dorado County</td>\n",
       "      <td>6</td>\n",
       "      <td>H1</td>\n",
       "      <td>...</td>\n",
       "      <td>995.1</td>\n",
       "      <td>1036.2</td>\n",
       "      <td>350.0</td>\n",
       "      <td>0.0</td>\n",
       "      <td>9.9</td>\n",
       "      <td>9.0</td>\n",
       "      <td>0.0</td>\n",
       "      <td>3.8</td>\n",
       "      <td>0.0</td>\n",
       "      <td>0.0</td>\n",
       "    </tr>\n",
       "    <tr>\n",
       "      <th>2</th>\n",
       "      <td>2016</td>\n",
       "      <td>3</td>\n",
       "      <td>6</td>\n",
       "      <td>17</td>\n",
       "      <td>277273</td>\n",
       "      <td>6017</td>\n",
       "      <td>El Dorado</td>\n",
       "      <td>El Dorado County</td>\n",
       "      <td>6</td>\n",
       "      <td>H1</td>\n",
       "      <td>...</td>\n",
       "      <td>1000.3</td>\n",
       "      <td>1028.3</td>\n",
       "      <td>360.0</td>\n",
       "      <td>0.0</td>\n",
       "      <td>9.9</td>\n",
       "      <td>9.0</td>\n",
       "      <td>0.0</td>\n",
       "      <td>6.4</td>\n",
       "      <td>0.0</td>\n",
       "      <td>0.0</td>\n",
       "    </tr>\n",
       "    <tr>\n",
       "      <th>3</th>\n",
       "      <td>2016</td>\n",
       "      <td>4</td>\n",
       "      <td>6</td>\n",
       "      <td>17</td>\n",
       "      <td>277273</td>\n",
       "      <td>6017</td>\n",
       "      <td>El Dorado</td>\n",
       "      <td>El Dorado County</td>\n",
       "      <td>6</td>\n",
       "      <td>H1</td>\n",
       "      <td>...</td>\n",
       "      <td>1005.6</td>\n",
       "      <td>1030.4</td>\n",
       "      <td>350.0</td>\n",
       "      <td>0.0</td>\n",
       "      <td>9.9</td>\n",
       "      <td>9.0</td>\n",
       "      <td>0.0</td>\n",
       "      <td>5.6</td>\n",
       "      <td>0.0</td>\n",
       "      <td>0.0</td>\n",
       "    </tr>\n",
       "    <tr>\n",
       "      <th>4</th>\n",
       "      <td>2016</td>\n",
       "      <td>5</td>\n",
       "      <td>6</td>\n",
       "      <td>17</td>\n",
       "      <td>277273</td>\n",
       "      <td>6017</td>\n",
       "      <td>El Dorado</td>\n",
       "      <td>El Dorado County</td>\n",
       "      <td>6</td>\n",
       "      <td>H1</td>\n",
       "      <td>...</td>\n",
       "      <td>998.9</td>\n",
       "      <td>1021.7</td>\n",
       "      <td>360.0</td>\n",
       "      <td>0.0</td>\n",
       "      <td>9.9</td>\n",
       "      <td>9.0</td>\n",
       "      <td>0.0</td>\n",
       "      <td>5.3</td>\n",
       "      <td>0.0</td>\n",
       "      <td>0.0</td>\n",
       "    </tr>\n",
       "  </tbody>\n",
       "</table>\n",
       "<p>5 rows × 30 columns</p>\n",
       "</div>"
      ],
      "text/plain": [
       "   year  month  STATEFP  COUNTYFP  COUNTYNS  GEOID       NAME  \\\n",
       "0  2016      1        6        17    277273   6017  El Dorado   \n",
       "1  2016      2        6        17    277273   6017  El Dorado   \n",
       "2  2016      3        6        17    277273   6017  El Dorado   \n",
       "3  2016      4        6        17    277273   6017  El Dorado   \n",
       "4  2016      5        6        17    277273   6017  El Dorado   \n",
       "\n",
       "           NAMELSAD  LSAD CLASSFP  ... sea_lvl_press_hectoPamin  \\\n",
       "0  El Dorado County     6      H1  ...                   1000.5   \n",
       "1  El Dorado County     6      H1  ...                    995.1   \n",
       "2  El Dorado County     6      H1  ...                   1000.3   \n",
       "3  El Dorado County     6      H1  ...                   1005.6   \n",
       "4  El Dorado County     6      H1  ...                    998.9   \n",
       "\n",
       "  sea_lvl_press_hectoPamax  wnd_dir_360max  wnd_spd_mtrpersecmin  \\\n",
       "0                   1032.6           360.0                   0.0   \n",
       "1                   1036.2           350.0                   0.0   \n",
       "2                   1028.3           360.0                   0.0   \n",
       "3                   1030.4           350.0                   0.0   \n",
       "4                   1021.7           360.0                   0.0   \n",
       "\n",
       "   wnd_spd_mtrpersecmax  sky_conditionmax  precip_hrlymin  precip_hrlymax  \\\n",
       "0                   9.9               9.0             0.0             7.1   \n",
       "1                   9.9               9.0             0.0             3.8   \n",
       "2                   9.9               9.0             0.0             6.4   \n",
       "3                   9.9               9.0             0.0             5.6   \n",
       "4                   9.9               9.0             0.0             5.3   \n",
       "\n",
       "   FID  approx_county_acres_burned  \n",
       "0  0.0                         0.0  \n",
       "1  0.0                         0.0  \n",
       "2  0.0                         0.0  \n",
       "3  0.0                         0.0  \n",
       "4  0.0                         0.0  \n",
       "\n",
       "[5 rows x 30 columns]"
      ]
     },
     "execution_count": 42,
     "metadata": {},
     "output_type": "execute_result"
    }
   ],
   "source": [
    "isd_data_full = pd.read_csv(output_bucket + \"final_weather_and_wildfire_ca.csv\", encoding = \"utf-8\", low_memory=False)\n",
    "isd_data_full.head()"
   ]
  },
  {
   "cell_type": "code",
   "execution_count": 43,
   "id": "5665268c-8b55-4c16-9dfd-dcf70144d04e",
   "metadata": {},
   "outputs": [
    {
     "data": {
      "text/plain": [
       "year                          0\n",
       "month                         0\n",
       "STATEFP                       0\n",
       "COUNTYFP                      0\n",
       "COUNTYNS                      0\n",
       "GEOID                         0\n",
       "NAME                          0\n",
       "NAMELSAD                      0\n",
       "LSAD                          0\n",
       "CLASSFP                       0\n",
       "MTFCC                         0\n",
       "FUNCSTAT                      0\n",
       "ALAND                         0\n",
       "AWATER                        0\n",
       "INTPTLAT                      0\n",
       "INTPTLON                      0\n",
       "air_temp_cmin                 0\n",
       "air_temp_cmax                 0\n",
       "dew_pt_temp_cmin              0\n",
       "dew_pt_temp_cmax              0\n",
       "sea_lvl_press_hectoPamin      0\n",
       "sea_lvl_press_hectoPamax      0\n",
       "wnd_dir_360max                0\n",
       "wnd_spd_mtrpersecmin          0\n",
       "wnd_spd_mtrpersecmax          0\n",
       "sky_conditionmax              0\n",
       "precip_hrlymin                0\n",
       "precip_hrlymax                0\n",
       "FID                           0\n",
       "approx_county_acres_burned    0\n",
       "dtype: int64"
      ]
     },
     "execution_count": 43,
     "metadata": {},
     "output_type": "execute_result"
    }
   ],
   "source": [
    "isd_data_full.isna().sum()"
   ]
  },
  {
   "cell_type": "markdown",
   "id": "3f5e4d99-b990-4af3-ab2e-2779eef218d8",
   "metadata": {},
   "source": [
    "## Create Balanced Dataset"
   ]
  },
  {
   "cell_type": "code",
   "execution_count": 44,
   "id": "514bdd89-9643-47f7-949b-6ed07b3897cc",
   "metadata": {},
   "outputs": [],
   "source": [
    "isd_data_full['had_fire'] = isd_data_full['FID'].apply(lambda x: 1 if x>0 else 0)"
   ]
  },
  {
   "cell_type": "code",
   "execution_count": 6,
   "id": "8c6c1cff-edcc-4f8f-a4b1-bbb0c2d3d4da",
   "metadata": {},
   "outputs": [],
   "source": [
    "isd_data_full['land_perc'] = isd_data_full['ALAND']/(isd_data_full['ALAND'] + isd_data_full['AWATER'])"
   ]
  },
  {
   "cell_type": "code",
   "execution_count": 7,
   "id": "17f17e51-ae7a-4908-9c93-2a2bbb5676cf",
   "metadata": {},
   "outputs": [],
   "source": [
    "isd_data_full = pd.get_dummies(isd_data_full,columns=['month'])"
   ]
  },
  {
   "cell_type": "code",
   "execution_count": 8,
   "id": "109d3ba2-d3e0-441d-a9b5-6ae65464d9fd",
   "metadata": {},
   "outputs": [
    {
     "data": {
      "text/plain": [
       "Index(['year', 'STATEFP', 'COUNTYFP', 'COUNTYNS', 'GEOID', 'NAME', 'NAMELSAD',\n",
       "       'LSAD', 'CLASSFP', 'MTFCC', 'FUNCSTAT', 'ALAND', 'AWATER', 'INTPTLAT',\n",
       "       'INTPTLON', 'air_temp_cmin', 'air_temp_cmax', 'dew_pt_temp_cmin',\n",
       "       'dew_pt_temp_cmax', 'sea_lvl_press_hectoPamin',\n",
       "       'sea_lvl_press_hectoPamax', 'wnd_dir_360max', 'wnd_spd_mtrpersecmin',\n",
       "       'wnd_spd_mtrpersecmax', 'sky_conditionmax', 'precip_hrlymin',\n",
       "       'precip_hrlymax', 'FID', 'approx_county_acres_burned', 'had_fire',\n",
       "       'land_perc', 'month_1', 'month_2', 'month_3', 'month_4', 'month_5',\n",
       "       'month_6', 'month_7', 'month_8', 'month_9', 'month_10', 'month_11',\n",
       "       'month_12'],\n",
       "      dtype='object')"
      ]
     },
     "execution_count": 8,
     "metadata": {},
     "output_type": "execute_result"
    }
   ],
   "source": [
    "isd_data_full.columns"
   ]
  },
  {
   "cell_type": "code",
   "execution_count": 9,
   "id": "a92d3705-13a9-436c-807a-13adca9ac081",
   "metadata": {},
   "outputs": [],
   "source": [
    "X_Vals = isd_data_full[['land_perc', 'air_temp_cmin', 'air_temp_cmax',\n",
    "       'dew_pt_temp_cmin', 'dew_pt_temp_cmax', 'sea_lvl_press_hectoPamin',\n",
    "       'sea_lvl_press_hectoPamax', 'wnd_dir_360max',\n",
    "       'wnd_spd_mtrpersecmin', 'wnd_spd_mtrpersecmax',\n",
    "       'sky_conditionmax', 'precip_hrlymin', 'precip_hrlymax', 'month_1',\n",
    "       'month_2', 'month_3', 'month_4', 'month_5', 'month_6', 'month_7',\n",
    "       'month_8', 'month_9', 'month_10', 'month_11', 'month_12', 'approx_county_acres_burned']]\n",
    "\n",
    "y_Vals = isd_data_full[['had_fire']]\n"
   ]
  },
  {
   "cell_type": "code",
   "execution_count": 10,
   "id": "71c28bcf-7dc4-4031-ab7e-9b39978d79b8",
   "metadata": {},
   "outputs": [
    {
     "name": "stderr",
     "output_type": "stream",
     "text": [
      "C:\\Users\\Christian Conroy\\anaconda3\\lib\\site-packages\\sklearn\\utils\\validation.py:63: DataConversionWarning: A column-vector y was passed when a 1d array was expected. Please change the shape of y to (n_samples, ), for example using ravel().\n",
      "  return f(*args, **kwargs)\n"
     ]
    }
   ],
   "source": [
    "X = X_Vals.values\n",
    "y = y_Vals.values\n",
    "\n",
    "encoder = LabelEncoder()\n",
    "encoder.fit(y)\n",
    "y = encoder.transform(y)\n",
    "\n",
    "X_imb = np.vstack((X[y == 0], X[y == 1]))\n",
    "y_imb = np.hstack((y[y == 0], y[y == 1]))"
   ]
  },
  {
   "cell_type": "code",
   "execution_count": 11,
   "id": "b850f2c0-7e43-4fed-ad0a-e024861dedce",
   "metadata": {},
   "outputs": [
    {
     "name": "stdout",
     "output_type": "stream",
     "text": [
      "Number of class 1 examples before: 1985\n",
      "Number of class 1 examples after: 715\n"
     ]
    }
   ],
   "source": [
    "print(\"Number of class 1 examples before:\", X_imb[y_imb == 0].shape[0])\n",
    "\n",
    "X_downsampled, y_downsampled = resample(X_imb[y_imb == 0], y_imb[y_imb == 0], replace=True, n_samples=X_imb[y_imb == 1].shape[0], random_state=123)\n",
    "\n",
    "print(\"Number of class 1 examples after:\", X_downsampled.shape[0])\n",
    "\n",
    "\n",
    "X_bal = np.vstack((X[y == 1], X_downsampled))\n",
    "y_bal = np.hstack((y[y == 1], y_downsampled))"
   ]
  },
  {
   "cell_type": "code",
   "execution_count": 12,
   "id": "facfadb3-ce54-4519-b77a-a93bb4c4db41",
   "metadata": {},
   "outputs": [
    {
     "data": {
      "text/plain": [
       "array([ 9.56049695e-01,  0.00000000e+00,  3.17000000e+01, -1.33000000e+01,\n",
       "        1.17000000e+01,  1.01230000e+03,  1.02270000e+03,  2.40000000e+02,\n",
       "        0.00000000e+00,  9.90000000e+00,  4.00000000e+00,  0.00000000e+00,\n",
       "        1.00000000e-03,  0.00000000e+00,  0.00000000e+00,  0.00000000e+00,\n",
       "        0.00000000e+00,  0.00000000e+00,  0.00000000e+00,  1.00000000e+00,\n",
       "        0.00000000e+00,  0.00000000e+00,  0.00000000e+00,  0.00000000e+00,\n",
       "        0.00000000e+00,  2.19823473e-13])"
      ]
     },
     "execution_count": 12,
     "metadata": {},
     "output_type": "execute_result"
    }
   ],
   "source": [
    "X_bal[0]"
   ]
  },
  {
   "cell_type": "code",
   "execution_count": 13,
   "id": "c2740ff5-defd-49e2-996a-7385111f44f2",
   "metadata": {},
   "outputs": [],
   "source": [
    "y_bal = np.delete(X_bal,np.s_[0:25], axis=1)"
   ]
  },
  {
   "cell_type": "code",
   "execution_count": 14,
   "id": "ec6a77aa-b90a-407e-8472-767143606184",
   "metadata": {},
   "outputs": [
    {
     "data": {
      "text/plain": [
       "array([ 9.56049695e-01,  0.00000000e+00,  3.17000000e+01, -1.33000000e+01,\n",
       "        1.17000000e+01,  1.01230000e+03,  1.02270000e+03,  2.40000000e+02,\n",
       "        0.00000000e+00,  9.90000000e+00,  4.00000000e+00,  0.00000000e+00,\n",
       "        1.00000000e-03,  0.00000000e+00,  0.00000000e+00,  0.00000000e+00,\n",
       "        0.00000000e+00,  0.00000000e+00,  0.00000000e+00,  1.00000000e+00,\n",
       "        0.00000000e+00,  0.00000000e+00,  0.00000000e+00,  0.00000000e+00,\n",
       "        0.00000000e+00])"
      ]
     },
     "execution_count": 14,
     "metadata": {},
     "output_type": "execute_result"
    }
   ],
   "source": [
    "X_bal = np.delete(X_bal, -1, axis=1)\n",
    "X_bal[0]"
   ]
  },
  {
   "cell_type": "code",
   "execution_count": 15,
   "id": "871238de-a861-4bd9-af74-09bd63791ba1",
   "metadata": {},
   "outputs": [],
   "source": [
    "X_train_bal, X_test_bal, y_train_bal, y_test_bal = train_test_split(X_bal, y_bal, test_size=0.2, random_state=42)"
   ]
  },
  {
   "cell_type": "markdown",
   "id": "ae0fa336-c956-41c0-8795-f98d8c24b179",
   "metadata": {},
   "source": [
    "#### Scale Balanced Dataset"
   ]
  },
  {
   "cell_type": "code",
   "execution_count": 16,
   "id": "528170ad-8773-49e7-a07f-496c08275c0f",
   "metadata": {},
   "outputs": [],
   "source": [
    "# Compute the minimum value per feature on the training set\n",
    "min_on_training = X_train_bal.min(axis=0)\n",
    "\n",
    "# Compute range on each feature\n",
    "range_on_training = (X_train_bal - min_on_training).max(axis=0)\n",
    "\n",
    "# Normalize train X\n",
    "X_train_bal_scaled = (X_train_bal - min_on_training)/range_on_training\n",
    "\n",
    "# Normalize test X\n",
    "X_test_bal_scaled = (X_test_bal - min_on_training)/range_on_training"
   ]
  },
  {
   "cell_type": "markdown",
   "id": "ef09be2e-836c-411b-8e59-1004d513725a",
   "metadata": {},
   "source": [
    "## Set up Vars for Raw Data (No Balancing)"
   ]
  },
  {
   "cell_type": "code",
   "execution_count": 17,
   "id": "4ad2cbdf-3043-48d6-b43e-eb49ebaecb64",
   "metadata": {},
   "outputs": [],
   "source": [
    "X = isd_data_full[['land_perc', 'air_temp_cmin', 'air_temp_cmax',\n",
    "       'dew_pt_temp_cmin', 'dew_pt_temp_cmax', 'sea_lvl_press_hectoPamin',\n",
    "       'sea_lvl_press_hectoPamax', 'wnd_dir_360max',\n",
    "       'wnd_spd_mtrpersecmin', 'wnd_spd_mtrpersecmax',\n",
    "       'sky_conditionmax', 'precip_hrlymin', 'precip_hrlymax','month_1',\n",
    "       'month_2', 'month_3', 'month_4', 'month_5', 'month_6', 'month_7',\n",
    "       'month_8', 'month_9', 'month_10', 'month_11', 'month_12']]\n",
    "\n",
    "y = isd_data_full[['approx_county_acres_burned']]"
   ]
  },
  {
   "cell_type": "markdown",
   "id": "8f2bd683-7142-44b8-a716-614cffa5f646",
   "metadata": {},
   "source": [
    "Quick Look at Corrs"
   ]
  },
  {
   "cell_type": "code",
   "execution_count": 18,
   "id": "296b02f2-2418-410f-94ad-cde934abbfa3",
   "metadata": {},
   "outputs": [
    {
     "data": {
      "text/html": [
       "<div>\n",
       "<style scoped>\n",
       "    .dataframe tbody tr th:only-of-type {\n",
       "        vertical-align: middle;\n",
       "    }\n",
       "\n",
       "    .dataframe tbody tr th {\n",
       "        vertical-align: top;\n",
       "    }\n",
       "\n",
       "    .dataframe thead th {\n",
       "        text-align: right;\n",
       "    }\n",
       "</style>\n",
       "<table border=\"1\" class=\"dataframe\">\n",
       "  <thead>\n",
       "    <tr style=\"text-align: right;\">\n",
       "      <th></th>\n",
       "      <th>land_perc</th>\n",
       "      <th>air_temp_cmin</th>\n",
       "      <th>air_temp_cmax</th>\n",
       "      <th>dew_pt_temp_cmin</th>\n",
       "      <th>dew_pt_temp_cmax</th>\n",
       "      <th>sea_lvl_press_hectoPamin</th>\n",
       "      <th>sea_lvl_press_hectoPamax</th>\n",
       "      <th>wnd_dir_360max</th>\n",
       "      <th>wnd_spd_mtrpersecmin</th>\n",
       "      <th>wnd_spd_mtrpersecmax</th>\n",
       "      <th>...</th>\n",
       "      <th>month_3</th>\n",
       "      <th>month_4</th>\n",
       "      <th>month_5</th>\n",
       "      <th>month_6</th>\n",
       "      <th>month_7</th>\n",
       "      <th>month_8</th>\n",
       "      <th>month_9</th>\n",
       "      <th>month_10</th>\n",
       "      <th>month_11</th>\n",
       "      <th>month_12</th>\n",
       "    </tr>\n",
       "  </thead>\n",
       "  <tbody>\n",
       "    <tr>\n",
       "      <th>land_perc</th>\n",
       "      <td>1.000000e+00</td>\n",
       "      <td>-0.161807</td>\n",
       "      <td>0.170037</td>\n",
       "      <td>-0.171161</td>\n",
       "      <td>-0.028999</td>\n",
       "      <td>-0.034409</td>\n",
       "      <td>-0.056959</td>\n",
       "      <td>-0.032936</td>\n",
       "      <td>4.298406e-02</td>\n",
       "      <td>0.037612</td>\n",
       "      <td>...</td>\n",
       "      <td>-1.716085e-17</td>\n",
       "      <td>-7.529426e-18</td>\n",
       "      <td>-4.572669e-17</td>\n",
       "      <td>-1.033756e-17</td>\n",
       "      <td>-4.560352e-17</td>\n",
       "      <td>-6.536724e-17</td>\n",
       "      <td>-9.792359e-17</td>\n",
       "      <td>-8.321781e-17</td>\n",
       "      <td>-7.311836e-17</td>\n",
       "      <td>-7.685433e-17</td>\n",
       "    </tr>\n",
       "    <tr>\n",
       "      <th>air_temp_cmin</th>\n",
       "      <td>-1.618074e-01</td>\n",
       "      <td>1.000000</td>\n",
       "      <td>0.687604</td>\n",
       "      <td>0.443176</td>\n",
       "      <td>0.137919</td>\n",
       "      <td>0.140228</td>\n",
       "      <td>-0.649591</td>\n",
       "      <td>0.081375</td>\n",
       "      <td>-8.715400e-02</td>\n",
       "      <td>-0.014995</td>\n",
       "      <td>...</td>\n",
       "      <td>-1.432648e-01</td>\n",
       "      <td>-2.855722e-02</td>\n",
       "      <td>9.136440e-02</td>\n",
       "      <td>1.920238e-01</td>\n",
       "      <td>3.321127e-01</td>\n",
       "      <td>3.402780e-01</td>\n",
       "      <td>1.658555e-01</td>\n",
       "      <td>-6.422381e-03</td>\n",
       "      <td>-1.793889e-01</td>\n",
       "      <td>-2.589563e-01</td>\n",
       "    </tr>\n",
       "    <tr>\n",
       "      <th>air_temp_cmax</th>\n",
       "      <td>1.700373e-01</td>\n",
       "      <td>0.687604</td>\n",
       "      <td>1.000000</td>\n",
       "      <td>0.030478</td>\n",
       "      <td>0.163260</td>\n",
       "      <td>0.048831</td>\n",
       "      <td>-0.674020</td>\n",
       "      <td>0.057419</td>\n",
       "      <td>-9.066317e-02</td>\n",
       "      <td>0.103047</td>\n",
       "      <td>...</td>\n",
       "      <td>-1.572908e-01</td>\n",
       "      <td>-9.087870e-03</td>\n",
       "      <td>8.095071e-02</td>\n",
       "      <td>2.376052e-01</td>\n",
       "      <td>2.412121e-01</td>\n",
       "      <td>2.556099e-01</td>\n",
       "      <td>2.656913e-01</td>\n",
       "      <td>6.845457e-02</td>\n",
       "      <td>-9.790400e-02</td>\n",
       "      <td>-3.193633e-01</td>\n",
       "    </tr>\n",
       "    <tr>\n",
       "      <th>dew_pt_temp_cmin</th>\n",
       "      <td>-1.711612e-01</td>\n",
       "      <td>0.443176</td>\n",
       "      <td>0.030478</td>\n",
       "      <td>1.000000</td>\n",
       "      <td>0.053885</td>\n",
       "      <td>0.208296</td>\n",
       "      <td>-0.216151</td>\n",
       "      <td>0.063102</td>\n",
       "      <td>1.446170e-02</td>\n",
       "      <td>-0.196146</td>\n",
       "      <td>...</td>\n",
       "      <td>-3.265628e-02</td>\n",
       "      <td>-6.891532e-03</td>\n",
       "      <td>7.948598e-02</td>\n",
       "      <td>5.968626e-02</td>\n",
       "      <td>1.263473e-01</td>\n",
       "      <td>1.796329e-01</td>\n",
       "      <td>7.726237e-02</td>\n",
       "      <td>-1.491798e-01</td>\n",
       "      <td>-8.976651e-02</td>\n",
       "      <td>-8.964485e-02</td>\n",
       "    </tr>\n",
       "    <tr>\n",
       "      <th>dew_pt_temp_cmax</th>\n",
       "      <td>-2.899897e-02</td>\n",
       "      <td>0.137919</td>\n",
       "      <td>0.163260</td>\n",
       "      <td>0.053885</td>\n",
       "      <td>1.000000</td>\n",
       "      <td>0.012437</td>\n",
       "      <td>-0.083578</td>\n",
       "      <td>0.079312</td>\n",
       "      <td>-1.673263e-02</td>\n",
       "      <td>0.095674</td>\n",
       "      <td>...</td>\n",
       "      <td>-3.314367e-02</td>\n",
       "      <td>-1.777471e-02</td>\n",
       "      <td>-1.486967e-02</td>\n",
       "      <td>1.308506e-02</td>\n",
       "      <td>3.111271e-02</td>\n",
       "      <td>3.306500e-02</td>\n",
       "      <td>4.018705e-03</td>\n",
       "      <td>1.538692e-02</td>\n",
       "      <td>-5.803687e-03</td>\n",
       "      <td>3.081798e-03</td>\n",
       "    </tr>\n",
       "    <tr>\n",
       "      <th>sea_lvl_press_hectoPamin</th>\n",
       "      <td>-3.440859e-02</td>\n",
       "      <td>0.140228</td>\n",
       "      <td>0.048831</td>\n",
       "      <td>0.208296</td>\n",
       "      <td>0.012437</td>\n",
       "      <td>1.000000</td>\n",
       "      <td>-0.125846</td>\n",
       "      <td>-0.022805</td>\n",
       "      <td>1.704748e-03</td>\n",
       "      <td>-0.139782</td>\n",
       "      <td>...</td>\n",
       "      <td>-7.414021e-04</td>\n",
       "      <td>3.792627e-02</td>\n",
       "      <td>-6.420047e-03</td>\n",
       "      <td>-1.526880e-02</td>\n",
       "      <td>8.091178e-02</td>\n",
       "      <td>7.075145e-02</td>\n",
       "      <td>2.811044e-02</td>\n",
       "      <td>6.849102e-02</td>\n",
       "      <td>-7.137246e-02</td>\n",
       "      <td>8.501953e-02</td>\n",
       "    </tr>\n",
       "    <tr>\n",
       "      <th>sea_lvl_press_hectoPamax</th>\n",
       "      <td>-5.695910e-02</td>\n",
       "      <td>-0.649591</td>\n",
       "      <td>-0.674020</td>\n",
       "      <td>-0.216151</td>\n",
       "      <td>-0.083578</td>\n",
       "      <td>-0.125846</td>\n",
       "      <td>1.000000</td>\n",
       "      <td>-0.036480</td>\n",
       "      <td>-1.673914e-02</td>\n",
       "      <td>-0.024094</td>\n",
       "      <td>...</td>\n",
       "      <td>1.428761e-01</td>\n",
       "      <td>5.946332e-02</td>\n",
       "      <td>-1.634547e-01</td>\n",
       "      <td>-2.097332e-01</td>\n",
       "      <td>-2.694111e-01</td>\n",
       "      <td>-3.110585e-01</td>\n",
       "      <td>-2.601053e-01</td>\n",
       "      <td>-5.697241e-03</td>\n",
       "      <td>1.218226e-01</td>\n",
       "      <td>2.874616e-01</td>\n",
       "    </tr>\n",
       "    <tr>\n",
       "      <th>wnd_dir_360max</th>\n",
       "      <td>-3.293617e-02</td>\n",
       "      <td>0.081375</td>\n",
       "      <td>0.057419</td>\n",
       "      <td>0.063102</td>\n",
       "      <td>0.079312</td>\n",
       "      <td>-0.022805</td>\n",
       "      <td>-0.036480</td>\n",
       "      <td>1.000000</td>\n",
       "      <td>2.189262e-02</td>\n",
       "      <td>0.041804</td>\n",
       "      <td>...</td>\n",
       "      <td>7.867318e-03</td>\n",
       "      <td>-2.920548e-03</td>\n",
       "      <td>2.650316e-02</td>\n",
       "      <td>6.019914e-03</td>\n",
       "      <td>-5.393111e-02</td>\n",
       "      <td>-2.352301e-02</td>\n",
       "      <td>-5.901088e-03</td>\n",
       "      <td>2.786556e-02</td>\n",
       "      <td>-2.553754e-02</td>\n",
       "      <td>2.167736e-02</td>\n",
       "    </tr>\n",
       "    <tr>\n",
       "      <th>wnd_spd_mtrpersecmin</th>\n",
       "      <td>4.298406e-02</td>\n",
       "      <td>-0.087154</td>\n",
       "      <td>-0.090663</td>\n",
       "      <td>0.014462</td>\n",
       "      <td>-0.016733</td>\n",
       "      <td>0.001705</td>\n",
       "      <td>-0.016739</td>\n",
       "      <td>0.021893</td>\n",
       "      <td>1.000000e+00</td>\n",
       "      <td>-0.040741</td>\n",
       "      <td>...</td>\n",
       "      <td>-1.077170e-02</td>\n",
       "      <td>2.154340e-02</td>\n",
       "      <td>2.154340e-02</td>\n",
       "      <td>-1.077170e-02</td>\n",
       "      <td>-1.077170e-02</td>\n",
       "      <td>-2.154340e-02</td>\n",
       "      <td>-2.154340e-02</td>\n",
       "      <td>-1.077170e-02</td>\n",
       "      <td>2.925806e-17</td>\n",
       "      <td>2.154340e-02</td>\n",
       "    </tr>\n",
       "    <tr>\n",
       "      <th>wnd_spd_mtrpersecmax</th>\n",
       "      <td>3.761160e-02</td>\n",
       "      <td>-0.014995</td>\n",
       "      <td>0.103047</td>\n",
       "      <td>-0.196146</td>\n",
       "      <td>0.095674</td>\n",
       "      <td>-0.139782</td>\n",
       "      <td>-0.024094</td>\n",
       "      <td>0.041804</td>\n",
       "      <td>-4.074107e-02</td>\n",
       "      <td>1.000000</td>\n",
       "      <td>...</td>\n",
       "      <td>-7.889788e-03</td>\n",
       "      <td>1.813870e-02</td>\n",
       "      <td>1.624964e-02</td>\n",
       "      <td>5.976512e-03</td>\n",
       "      <td>-1.048339e-02</td>\n",
       "      <td>1.573004e-02</td>\n",
       "      <td>-4.798603e-03</td>\n",
       "      <td>3.647114e-03</td>\n",
       "      <td>-1.478111e-02</td>\n",
       "      <td>-2.279969e-02</td>\n",
       "    </tr>\n",
       "    <tr>\n",
       "      <th>sky_conditionmax</th>\n",
       "      <td>-4.994398e-02</td>\n",
       "      <td>-0.275819</td>\n",
       "      <td>-0.241785</td>\n",
       "      <td>-0.077485</td>\n",
       "      <td>0.029715</td>\n",
       "      <td>-0.070686</td>\n",
       "      <td>0.247915</td>\n",
       "      <td>0.041596</td>\n",
       "      <td>-2.612282e-02</td>\n",
       "      <td>0.107748</td>\n",
       "      <td>...</td>\n",
       "      <td>3.935726e-02</td>\n",
       "      <td>-2.992087e-02</td>\n",
       "      <td>-5.588031e-02</td>\n",
       "      <td>-9.895044e-02</td>\n",
       "      <td>-1.696689e-01</td>\n",
       "      <td>-1.052423e-01</td>\n",
       "      <td>-5.660377e-02</td>\n",
       "      <td>2.336126e-02</td>\n",
       "      <td>1.152007e-01</td>\n",
       "      <td>1.214660e-01</td>\n",
       "    </tr>\n",
       "    <tr>\n",
       "      <th>precip_hrlymin</th>\n",
       "      <td>-3.647883e-01</td>\n",
       "      <td>-0.076905</td>\n",
       "      <td>-0.115540</td>\n",
       "      <td>-0.037495</td>\n",
       "      <td>-0.111409</td>\n",
       "      <td>-0.007713</td>\n",
       "      <td>0.013869</td>\n",
       "      <td>0.015550</td>\n",
       "      <td>-1.336239e-02</td>\n",
       "      <td>-0.071330</td>\n",
       "      <td>...</td>\n",
       "      <td>-1.193334e-02</td>\n",
       "      <td>-5.112239e-03</td>\n",
       "      <td>-8.894504e-03</td>\n",
       "      <td>-8.767325e-03</td>\n",
       "      <td>4.490172e-02</td>\n",
       "      <td>9.961363e-03</td>\n",
       "      <td>4.657586e-03</td>\n",
       "      <td>4.927789e-03</td>\n",
       "      <td>-2.400792e-04</td>\n",
       "      <td>-4.788344e-03</td>\n",
       "    </tr>\n",
       "    <tr>\n",
       "      <th>precip_hrlymax</th>\n",
       "      <td>1.205073e-03</td>\n",
       "      <td>-0.104206</td>\n",
       "      <td>-0.106822</td>\n",
       "      <td>-0.083659</td>\n",
       "      <td>0.070587</td>\n",
       "      <td>-0.095032</td>\n",
       "      <td>0.139694</td>\n",
       "      <td>0.018637</td>\n",
       "      <td>-7.846889e-03</td>\n",
       "      <td>0.116119</td>\n",
       "      <td>...</td>\n",
       "      <td>6.547867e-02</td>\n",
       "      <td>1.586376e-02</td>\n",
       "      <td>-2.640789e-02</td>\n",
       "      <td>-7.450493e-02</td>\n",
       "      <td>-6.866955e-02</td>\n",
       "      <td>-7.065698e-02</td>\n",
       "      <td>-7.678729e-02</td>\n",
       "      <td>2.332530e-02</td>\n",
       "      <td>5.550442e-02</td>\n",
       "      <td>2.984507e-02</td>\n",
       "    </tr>\n",
       "    <tr>\n",
       "      <th>month_1</th>\n",
       "      <td>-3.778671e-17</td>\n",
       "      <td>-0.247958</td>\n",
       "      <td>-0.327196</td>\n",
       "      <td>-0.060344</td>\n",
       "      <td>-0.033631</td>\n",
       "      <td>-0.124035</td>\n",
       "      <td>0.378753</td>\n",
       "      <td>-0.004463</td>\n",
       "      <td>1.077170e-02</td>\n",
       "      <td>-0.014165</td>\n",
       "      <td>...</td>\n",
       "      <td>-9.090909e-02</td>\n",
       "      <td>-9.090909e-02</td>\n",
       "      <td>-9.090909e-02</td>\n",
       "      <td>-9.090909e-02</td>\n",
       "      <td>-9.090909e-02</td>\n",
       "      <td>-9.090909e-02</td>\n",
       "      <td>-9.090909e-02</td>\n",
       "      <td>-9.090909e-02</td>\n",
       "      <td>-9.090909e-02</td>\n",
       "      <td>-9.090909e-02</td>\n",
       "    </tr>\n",
       "    <tr>\n",
       "      <th>month_2</th>\n",
       "      <td>-6.037499e-17</td>\n",
       "      <td>-0.257087</td>\n",
       "      <td>-0.238682</td>\n",
       "      <td>-0.093932</td>\n",
       "      <td>0.005472</td>\n",
       "      <td>-0.153373</td>\n",
       "      <td>0.229084</td>\n",
       "      <td>0.026343</td>\n",
       "      <td>1.077170e-02</td>\n",
       "      <td>0.015175</td>\n",
       "      <td>...</td>\n",
       "      <td>-9.090909e-02</td>\n",
       "      <td>-9.090909e-02</td>\n",
       "      <td>-9.090909e-02</td>\n",
       "      <td>-9.090909e-02</td>\n",
       "      <td>-9.090909e-02</td>\n",
       "      <td>-9.090909e-02</td>\n",
       "      <td>-9.090909e-02</td>\n",
       "      <td>-9.090909e-02</td>\n",
       "      <td>-9.090909e-02</td>\n",
       "      <td>-9.090909e-02</td>\n",
       "    </tr>\n",
       "    <tr>\n",
       "      <th>month_3</th>\n",
       "      <td>-1.716085e-17</td>\n",
       "      <td>-0.143265</td>\n",
       "      <td>-0.157291</td>\n",
       "      <td>-0.032656</td>\n",
       "      <td>-0.033144</td>\n",
       "      <td>-0.000741</td>\n",
       "      <td>0.142876</td>\n",
       "      <td>0.007867</td>\n",
       "      <td>-1.077170e-02</td>\n",
       "      <td>-0.007890</td>\n",
       "      <td>...</td>\n",
       "      <td>1.000000e+00</td>\n",
       "      <td>-9.090909e-02</td>\n",
       "      <td>-9.090909e-02</td>\n",
       "      <td>-9.090909e-02</td>\n",
       "      <td>-9.090909e-02</td>\n",
       "      <td>-9.090909e-02</td>\n",
       "      <td>-9.090909e-02</td>\n",
       "      <td>-9.090909e-02</td>\n",
       "      <td>-9.090909e-02</td>\n",
       "      <td>-9.090909e-02</td>\n",
       "    </tr>\n",
       "    <tr>\n",
       "      <th>month_4</th>\n",
       "      <td>-7.529426e-18</td>\n",
       "      <td>-0.028557</td>\n",
       "      <td>-0.009088</td>\n",
       "      <td>-0.006892</td>\n",
       "      <td>-0.017775</td>\n",
       "      <td>0.037926</td>\n",
       "      <td>0.059463</td>\n",
       "      <td>-0.002921</td>\n",
       "      <td>2.154340e-02</td>\n",
       "      <td>0.018139</td>\n",
       "      <td>...</td>\n",
       "      <td>-9.090909e-02</td>\n",
       "      <td>1.000000e+00</td>\n",
       "      <td>-9.090909e-02</td>\n",
       "      <td>-9.090909e-02</td>\n",
       "      <td>-9.090909e-02</td>\n",
       "      <td>-9.090909e-02</td>\n",
       "      <td>-9.090909e-02</td>\n",
       "      <td>-9.090909e-02</td>\n",
       "      <td>-9.090909e-02</td>\n",
       "      <td>-9.090909e-02</td>\n",
       "    </tr>\n",
       "    <tr>\n",
       "      <th>month_5</th>\n",
       "      <td>-4.572669e-17</td>\n",
       "      <td>0.091364</td>\n",
       "      <td>0.080951</td>\n",
       "      <td>0.079486</td>\n",
       "      <td>-0.014870</td>\n",
       "      <td>-0.006420</td>\n",
       "      <td>-0.163455</td>\n",
       "      <td>0.026503</td>\n",
       "      <td>2.154340e-02</td>\n",
       "      <td>0.016250</td>\n",
       "      <td>...</td>\n",
       "      <td>-9.090909e-02</td>\n",
       "      <td>-9.090909e-02</td>\n",
       "      <td>1.000000e+00</td>\n",
       "      <td>-9.090909e-02</td>\n",
       "      <td>-9.090909e-02</td>\n",
       "      <td>-9.090909e-02</td>\n",
       "      <td>-9.090909e-02</td>\n",
       "      <td>-9.090909e-02</td>\n",
       "      <td>-9.090909e-02</td>\n",
       "      <td>-9.090909e-02</td>\n",
       "    </tr>\n",
       "    <tr>\n",
       "      <th>month_6</th>\n",
       "      <td>-1.033756e-17</td>\n",
       "      <td>0.192024</td>\n",
       "      <td>0.237605</td>\n",
       "      <td>0.059686</td>\n",
       "      <td>0.013085</td>\n",
       "      <td>-0.015269</td>\n",
       "      <td>-0.209733</td>\n",
       "      <td>0.006020</td>\n",
       "      <td>-1.077170e-02</td>\n",
       "      <td>0.005977</td>\n",
       "      <td>...</td>\n",
       "      <td>-9.090909e-02</td>\n",
       "      <td>-9.090909e-02</td>\n",
       "      <td>-9.090909e-02</td>\n",
       "      <td>1.000000e+00</td>\n",
       "      <td>-9.090909e-02</td>\n",
       "      <td>-9.090909e-02</td>\n",
       "      <td>-9.090909e-02</td>\n",
       "      <td>-9.090909e-02</td>\n",
       "      <td>-9.090909e-02</td>\n",
       "      <td>-9.090909e-02</td>\n",
       "    </tr>\n",
       "    <tr>\n",
       "      <th>month_7</th>\n",
       "      <td>-4.560352e-17</td>\n",
       "      <td>0.332113</td>\n",
       "      <td>0.241212</td>\n",
       "      <td>0.126347</td>\n",
       "      <td>0.031113</td>\n",
       "      <td>0.080912</td>\n",
       "      <td>-0.269411</td>\n",
       "      <td>-0.053931</td>\n",
       "      <td>-1.077170e-02</td>\n",
       "      <td>-0.010483</td>\n",
       "      <td>...</td>\n",
       "      <td>-9.090909e-02</td>\n",
       "      <td>-9.090909e-02</td>\n",
       "      <td>-9.090909e-02</td>\n",
       "      <td>-9.090909e-02</td>\n",
       "      <td>1.000000e+00</td>\n",
       "      <td>-9.090909e-02</td>\n",
       "      <td>-9.090909e-02</td>\n",
       "      <td>-9.090909e-02</td>\n",
       "      <td>-9.090909e-02</td>\n",
       "      <td>-9.090909e-02</td>\n",
       "    </tr>\n",
       "    <tr>\n",
       "      <th>month_8</th>\n",
       "      <td>-6.536724e-17</td>\n",
       "      <td>0.340278</td>\n",
       "      <td>0.255610</td>\n",
       "      <td>0.179633</td>\n",
       "      <td>0.033065</td>\n",
       "      <td>0.070751</td>\n",
       "      <td>-0.311058</td>\n",
       "      <td>-0.023523</td>\n",
       "      <td>-2.154340e-02</td>\n",
       "      <td>0.015730</td>\n",
       "      <td>...</td>\n",
       "      <td>-9.090909e-02</td>\n",
       "      <td>-9.090909e-02</td>\n",
       "      <td>-9.090909e-02</td>\n",
       "      <td>-9.090909e-02</td>\n",
       "      <td>-9.090909e-02</td>\n",
       "      <td>1.000000e+00</td>\n",
       "      <td>-9.090909e-02</td>\n",
       "      <td>-9.090909e-02</td>\n",
       "      <td>-9.090909e-02</td>\n",
       "      <td>-9.090909e-02</td>\n",
       "    </tr>\n",
       "    <tr>\n",
       "      <th>month_9</th>\n",
       "      <td>-9.792359e-17</td>\n",
       "      <td>0.165855</td>\n",
       "      <td>0.265691</td>\n",
       "      <td>0.077262</td>\n",
       "      <td>0.004019</td>\n",
       "      <td>0.028110</td>\n",
       "      <td>-0.260105</td>\n",
       "      <td>-0.005901</td>\n",
       "      <td>-2.154340e-02</td>\n",
       "      <td>-0.004799</td>\n",
       "      <td>...</td>\n",
       "      <td>-9.090909e-02</td>\n",
       "      <td>-9.090909e-02</td>\n",
       "      <td>-9.090909e-02</td>\n",
       "      <td>-9.090909e-02</td>\n",
       "      <td>-9.090909e-02</td>\n",
       "      <td>-9.090909e-02</td>\n",
       "      <td>1.000000e+00</td>\n",
       "      <td>-9.090909e-02</td>\n",
       "      <td>-9.090909e-02</td>\n",
       "      <td>-9.090909e-02</td>\n",
       "    </tr>\n",
       "    <tr>\n",
       "      <th>month_10</th>\n",
       "      <td>-8.321781e-17</td>\n",
       "      <td>-0.006422</td>\n",
       "      <td>0.068455</td>\n",
       "      <td>-0.149180</td>\n",
       "      <td>0.015387</td>\n",
       "      <td>0.068491</td>\n",
       "      <td>-0.005697</td>\n",
       "      <td>0.027866</td>\n",
       "      <td>-1.077170e-02</td>\n",
       "      <td>0.003647</td>\n",
       "      <td>...</td>\n",
       "      <td>-9.090909e-02</td>\n",
       "      <td>-9.090909e-02</td>\n",
       "      <td>-9.090909e-02</td>\n",
       "      <td>-9.090909e-02</td>\n",
       "      <td>-9.090909e-02</td>\n",
       "      <td>-9.090909e-02</td>\n",
       "      <td>-9.090909e-02</td>\n",
       "      <td>1.000000e+00</td>\n",
       "      <td>-9.090909e-02</td>\n",
       "      <td>-9.090909e-02</td>\n",
       "    </tr>\n",
       "    <tr>\n",
       "      <th>month_11</th>\n",
       "      <td>-7.311836e-17</td>\n",
       "      <td>-0.179389</td>\n",
       "      <td>-0.097904</td>\n",
       "      <td>-0.089767</td>\n",
       "      <td>-0.005804</td>\n",
       "      <td>-0.071372</td>\n",
       "      <td>0.121823</td>\n",
       "      <td>-0.025538</td>\n",
       "      <td>2.925806e-17</td>\n",
       "      <td>-0.014781</td>\n",
       "      <td>...</td>\n",
       "      <td>-9.090909e-02</td>\n",
       "      <td>-9.090909e-02</td>\n",
       "      <td>-9.090909e-02</td>\n",
       "      <td>-9.090909e-02</td>\n",
       "      <td>-9.090909e-02</td>\n",
       "      <td>-9.090909e-02</td>\n",
       "      <td>-9.090909e-02</td>\n",
       "      <td>-9.090909e-02</td>\n",
       "      <td>1.000000e+00</td>\n",
       "      <td>-9.090909e-02</td>\n",
       "    </tr>\n",
       "    <tr>\n",
       "      <th>month_12</th>\n",
       "      <td>-7.685433e-17</td>\n",
       "      <td>-0.258956</td>\n",
       "      <td>-0.319363</td>\n",
       "      <td>-0.089645</td>\n",
       "      <td>0.003082</td>\n",
       "      <td>0.085020</td>\n",
       "      <td>0.287462</td>\n",
       "      <td>0.021677</td>\n",
       "      <td>2.154340e-02</td>\n",
       "      <td>-0.022800</td>\n",
       "      <td>...</td>\n",
       "      <td>-9.090909e-02</td>\n",
       "      <td>-9.090909e-02</td>\n",
       "      <td>-9.090909e-02</td>\n",
       "      <td>-9.090909e-02</td>\n",
       "      <td>-9.090909e-02</td>\n",
       "      <td>-9.090909e-02</td>\n",
       "      <td>-9.090909e-02</td>\n",
       "      <td>-9.090909e-02</td>\n",
       "      <td>-9.090909e-02</td>\n",
       "      <td>1.000000e+00</td>\n",
       "    </tr>\n",
       "  </tbody>\n",
       "</table>\n",
       "<p>25 rows × 25 columns</p>\n",
       "</div>"
      ],
      "text/plain": [
       "                             land_perc  air_temp_cmin  air_temp_cmax  \\\n",
       "land_perc                 1.000000e+00      -0.161807       0.170037   \n",
       "air_temp_cmin            -1.618074e-01       1.000000       0.687604   \n",
       "air_temp_cmax             1.700373e-01       0.687604       1.000000   \n",
       "dew_pt_temp_cmin         -1.711612e-01       0.443176       0.030478   \n",
       "dew_pt_temp_cmax         -2.899897e-02       0.137919       0.163260   \n",
       "sea_lvl_press_hectoPamin -3.440859e-02       0.140228       0.048831   \n",
       "sea_lvl_press_hectoPamax -5.695910e-02      -0.649591      -0.674020   \n",
       "wnd_dir_360max           -3.293617e-02       0.081375       0.057419   \n",
       "wnd_spd_mtrpersecmin      4.298406e-02      -0.087154      -0.090663   \n",
       "wnd_spd_mtrpersecmax      3.761160e-02      -0.014995       0.103047   \n",
       "sky_conditionmax         -4.994398e-02      -0.275819      -0.241785   \n",
       "precip_hrlymin           -3.647883e-01      -0.076905      -0.115540   \n",
       "precip_hrlymax            1.205073e-03      -0.104206      -0.106822   \n",
       "month_1                  -3.778671e-17      -0.247958      -0.327196   \n",
       "month_2                  -6.037499e-17      -0.257087      -0.238682   \n",
       "month_3                  -1.716085e-17      -0.143265      -0.157291   \n",
       "month_4                  -7.529426e-18      -0.028557      -0.009088   \n",
       "month_5                  -4.572669e-17       0.091364       0.080951   \n",
       "month_6                  -1.033756e-17       0.192024       0.237605   \n",
       "month_7                  -4.560352e-17       0.332113       0.241212   \n",
       "month_8                  -6.536724e-17       0.340278       0.255610   \n",
       "month_9                  -9.792359e-17       0.165855       0.265691   \n",
       "month_10                 -8.321781e-17      -0.006422       0.068455   \n",
       "month_11                 -7.311836e-17      -0.179389      -0.097904   \n",
       "month_12                 -7.685433e-17      -0.258956      -0.319363   \n",
       "\n",
       "                          dew_pt_temp_cmin  dew_pt_temp_cmax  \\\n",
       "land_perc                        -0.171161         -0.028999   \n",
       "air_temp_cmin                     0.443176          0.137919   \n",
       "air_temp_cmax                     0.030478          0.163260   \n",
       "dew_pt_temp_cmin                  1.000000          0.053885   \n",
       "dew_pt_temp_cmax                  0.053885          1.000000   \n",
       "sea_lvl_press_hectoPamin          0.208296          0.012437   \n",
       "sea_lvl_press_hectoPamax         -0.216151         -0.083578   \n",
       "wnd_dir_360max                    0.063102          0.079312   \n",
       "wnd_spd_mtrpersecmin              0.014462         -0.016733   \n",
       "wnd_spd_mtrpersecmax             -0.196146          0.095674   \n",
       "sky_conditionmax                 -0.077485          0.029715   \n",
       "precip_hrlymin                   -0.037495         -0.111409   \n",
       "precip_hrlymax                   -0.083659          0.070587   \n",
       "month_1                          -0.060344         -0.033631   \n",
       "month_2                          -0.093932          0.005472   \n",
       "month_3                          -0.032656         -0.033144   \n",
       "month_4                          -0.006892         -0.017775   \n",
       "month_5                           0.079486         -0.014870   \n",
       "month_6                           0.059686          0.013085   \n",
       "month_7                           0.126347          0.031113   \n",
       "month_8                           0.179633          0.033065   \n",
       "month_9                           0.077262          0.004019   \n",
       "month_10                         -0.149180          0.015387   \n",
       "month_11                         -0.089767         -0.005804   \n",
       "month_12                         -0.089645          0.003082   \n",
       "\n",
       "                          sea_lvl_press_hectoPamin  sea_lvl_press_hectoPamax  \\\n",
       "land_perc                                -0.034409                 -0.056959   \n",
       "air_temp_cmin                             0.140228                 -0.649591   \n",
       "air_temp_cmax                             0.048831                 -0.674020   \n",
       "dew_pt_temp_cmin                          0.208296                 -0.216151   \n",
       "dew_pt_temp_cmax                          0.012437                 -0.083578   \n",
       "sea_lvl_press_hectoPamin                  1.000000                 -0.125846   \n",
       "sea_lvl_press_hectoPamax                 -0.125846                  1.000000   \n",
       "wnd_dir_360max                           -0.022805                 -0.036480   \n",
       "wnd_spd_mtrpersecmin                      0.001705                 -0.016739   \n",
       "wnd_spd_mtrpersecmax                     -0.139782                 -0.024094   \n",
       "sky_conditionmax                         -0.070686                  0.247915   \n",
       "precip_hrlymin                           -0.007713                  0.013869   \n",
       "precip_hrlymax                           -0.095032                  0.139694   \n",
       "month_1                                  -0.124035                  0.378753   \n",
       "month_2                                  -0.153373                  0.229084   \n",
       "month_3                                  -0.000741                  0.142876   \n",
       "month_4                                   0.037926                  0.059463   \n",
       "month_5                                  -0.006420                 -0.163455   \n",
       "month_6                                  -0.015269                 -0.209733   \n",
       "month_7                                   0.080912                 -0.269411   \n",
       "month_8                                   0.070751                 -0.311058   \n",
       "month_9                                   0.028110                 -0.260105   \n",
       "month_10                                  0.068491                 -0.005697   \n",
       "month_11                                 -0.071372                  0.121823   \n",
       "month_12                                  0.085020                  0.287462   \n",
       "\n",
       "                          wnd_dir_360max  wnd_spd_mtrpersecmin  \\\n",
       "land_perc                      -0.032936          4.298406e-02   \n",
       "air_temp_cmin                   0.081375         -8.715400e-02   \n",
       "air_temp_cmax                   0.057419         -9.066317e-02   \n",
       "dew_pt_temp_cmin                0.063102          1.446170e-02   \n",
       "dew_pt_temp_cmax                0.079312         -1.673263e-02   \n",
       "sea_lvl_press_hectoPamin       -0.022805          1.704748e-03   \n",
       "sea_lvl_press_hectoPamax       -0.036480         -1.673914e-02   \n",
       "wnd_dir_360max                  1.000000          2.189262e-02   \n",
       "wnd_spd_mtrpersecmin            0.021893          1.000000e+00   \n",
       "wnd_spd_mtrpersecmax            0.041804         -4.074107e-02   \n",
       "sky_conditionmax                0.041596         -2.612282e-02   \n",
       "precip_hrlymin                  0.015550         -1.336239e-02   \n",
       "precip_hrlymax                  0.018637         -7.846889e-03   \n",
       "month_1                        -0.004463          1.077170e-02   \n",
       "month_2                         0.026343          1.077170e-02   \n",
       "month_3                         0.007867         -1.077170e-02   \n",
       "month_4                        -0.002921          2.154340e-02   \n",
       "month_5                         0.026503          2.154340e-02   \n",
       "month_6                         0.006020         -1.077170e-02   \n",
       "month_7                        -0.053931         -1.077170e-02   \n",
       "month_8                        -0.023523         -2.154340e-02   \n",
       "month_9                        -0.005901         -2.154340e-02   \n",
       "month_10                        0.027866         -1.077170e-02   \n",
       "month_11                       -0.025538          2.925806e-17   \n",
       "month_12                        0.021677          2.154340e-02   \n",
       "\n",
       "                          wnd_spd_mtrpersecmax  ...       month_3  \\\n",
       "land_perc                             0.037612  ... -1.716085e-17   \n",
       "air_temp_cmin                        -0.014995  ... -1.432648e-01   \n",
       "air_temp_cmax                         0.103047  ... -1.572908e-01   \n",
       "dew_pt_temp_cmin                     -0.196146  ... -3.265628e-02   \n",
       "dew_pt_temp_cmax                      0.095674  ... -3.314367e-02   \n",
       "sea_lvl_press_hectoPamin             -0.139782  ... -7.414021e-04   \n",
       "sea_lvl_press_hectoPamax             -0.024094  ...  1.428761e-01   \n",
       "wnd_dir_360max                        0.041804  ...  7.867318e-03   \n",
       "wnd_spd_mtrpersecmin                 -0.040741  ... -1.077170e-02   \n",
       "wnd_spd_mtrpersecmax                  1.000000  ... -7.889788e-03   \n",
       "sky_conditionmax                      0.107748  ...  3.935726e-02   \n",
       "precip_hrlymin                       -0.071330  ... -1.193334e-02   \n",
       "precip_hrlymax                        0.116119  ...  6.547867e-02   \n",
       "month_1                              -0.014165  ... -9.090909e-02   \n",
       "month_2                               0.015175  ... -9.090909e-02   \n",
       "month_3                              -0.007890  ...  1.000000e+00   \n",
       "month_4                               0.018139  ... -9.090909e-02   \n",
       "month_5                               0.016250  ... -9.090909e-02   \n",
       "month_6                               0.005977  ... -9.090909e-02   \n",
       "month_7                              -0.010483  ... -9.090909e-02   \n",
       "month_8                               0.015730  ... -9.090909e-02   \n",
       "month_9                              -0.004799  ... -9.090909e-02   \n",
       "month_10                              0.003647  ... -9.090909e-02   \n",
       "month_11                             -0.014781  ... -9.090909e-02   \n",
       "month_12                             -0.022800  ... -9.090909e-02   \n",
       "\n",
       "                               month_4       month_5       month_6  \\\n",
       "land_perc                -7.529426e-18 -4.572669e-17 -1.033756e-17   \n",
       "air_temp_cmin            -2.855722e-02  9.136440e-02  1.920238e-01   \n",
       "air_temp_cmax            -9.087870e-03  8.095071e-02  2.376052e-01   \n",
       "dew_pt_temp_cmin         -6.891532e-03  7.948598e-02  5.968626e-02   \n",
       "dew_pt_temp_cmax         -1.777471e-02 -1.486967e-02  1.308506e-02   \n",
       "sea_lvl_press_hectoPamin  3.792627e-02 -6.420047e-03 -1.526880e-02   \n",
       "sea_lvl_press_hectoPamax  5.946332e-02 -1.634547e-01 -2.097332e-01   \n",
       "wnd_dir_360max           -2.920548e-03  2.650316e-02  6.019914e-03   \n",
       "wnd_spd_mtrpersecmin      2.154340e-02  2.154340e-02 -1.077170e-02   \n",
       "wnd_spd_mtrpersecmax      1.813870e-02  1.624964e-02  5.976512e-03   \n",
       "sky_conditionmax         -2.992087e-02 -5.588031e-02 -9.895044e-02   \n",
       "precip_hrlymin           -5.112239e-03 -8.894504e-03 -8.767325e-03   \n",
       "precip_hrlymax            1.586376e-02 -2.640789e-02 -7.450493e-02   \n",
       "month_1                  -9.090909e-02 -9.090909e-02 -9.090909e-02   \n",
       "month_2                  -9.090909e-02 -9.090909e-02 -9.090909e-02   \n",
       "month_3                  -9.090909e-02 -9.090909e-02 -9.090909e-02   \n",
       "month_4                   1.000000e+00 -9.090909e-02 -9.090909e-02   \n",
       "month_5                  -9.090909e-02  1.000000e+00 -9.090909e-02   \n",
       "month_6                  -9.090909e-02 -9.090909e-02  1.000000e+00   \n",
       "month_7                  -9.090909e-02 -9.090909e-02 -9.090909e-02   \n",
       "month_8                  -9.090909e-02 -9.090909e-02 -9.090909e-02   \n",
       "month_9                  -9.090909e-02 -9.090909e-02 -9.090909e-02   \n",
       "month_10                 -9.090909e-02 -9.090909e-02 -9.090909e-02   \n",
       "month_11                 -9.090909e-02 -9.090909e-02 -9.090909e-02   \n",
       "month_12                 -9.090909e-02 -9.090909e-02 -9.090909e-02   \n",
       "\n",
       "                               month_7       month_8       month_9  \\\n",
       "land_perc                -4.560352e-17 -6.536724e-17 -9.792359e-17   \n",
       "air_temp_cmin             3.321127e-01  3.402780e-01  1.658555e-01   \n",
       "air_temp_cmax             2.412121e-01  2.556099e-01  2.656913e-01   \n",
       "dew_pt_temp_cmin          1.263473e-01  1.796329e-01  7.726237e-02   \n",
       "dew_pt_temp_cmax          3.111271e-02  3.306500e-02  4.018705e-03   \n",
       "sea_lvl_press_hectoPamin  8.091178e-02  7.075145e-02  2.811044e-02   \n",
       "sea_lvl_press_hectoPamax -2.694111e-01 -3.110585e-01 -2.601053e-01   \n",
       "wnd_dir_360max           -5.393111e-02 -2.352301e-02 -5.901088e-03   \n",
       "wnd_spd_mtrpersecmin     -1.077170e-02 -2.154340e-02 -2.154340e-02   \n",
       "wnd_spd_mtrpersecmax     -1.048339e-02  1.573004e-02 -4.798603e-03   \n",
       "sky_conditionmax         -1.696689e-01 -1.052423e-01 -5.660377e-02   \n",
       "precip_hrlymin            4.490172e-02  9.961363e-03  4.657586e-03   \n",
       "precip_hrlymax           -6.866955e-02 -7.065698e-02 -7.678729e-02   \n",
       "month_1                  -9.090909e-02 -9.090909e-02 -9.090909e-02   \n",
       "month_2                  -9.090909e-02 -9.090909e-02 -9.090909e-02   \n",
       "month_3                  -9.090909e-02 -9.090909e-02 -9.090909e-02   \n",
       "month_4                  -9.090909e-02 -9.090909e-02 -9.090909e-02   \n",
       "month_5                  -9.090909e-02 -9.090909e-02 -9.090909e-02   \n",
       "month_6                  -9.090909e-02 -9.090909e-02 -9.090909e-02   \n",
       "month_7                   1.000000e+00 -9.090909e-02 -9.090909e-02   \n",
       "month_8                  -9.090909e-02  1.000000e+00 -9.090909e-02   \n",
       "month_9                  -9.090909e-02 -9.090909e-02  1.000000e+00   \n",
       "month_10                 -9.090909e-02 -9.090909e-02 -9.090909e-02   \n",
       "month_11                 -9.090909e-02 -9.090909e-02 -9.090909e-02   \n",
       "month_12                 -9.090909e-02 -9.090909e-02 -9.090909e-02   \n",
       "\n",
       "                              month_10      month_11      month_12  \n",
       "land_perc                -8.321781e-17 -7.311836e-17 -7.685433e-17  \n",
       "air_temp_cmin            -6.422381e-03 -1.793889e-01 -2.589563e-01  \n",
       "air_temp_cmax             6.845457e-02 -9.790400e-02 -3.193633e-01  \n",
       "dew_pt_temp_cmin         -1.491798e-01 -8.976651e-02 -8.964485e-02  \n",
       "dew_pt_temp_cmax          1.538692e-02 -5.803687e-03  3.081798e-03  \n",
       "sea_lvl_press_hectoPamin  6.849102e-02 -7.137246e-02  8.501953e-02  \n",
       "sea_lvl_press_hectoPamax -5.697241e-03  1.218226e-01  2.874616e-01  \n",
       "wnd_dir_360max            2.786556e-02 -2.553754e-02  2.167736e-02  \n",
       "wnd_spd_mtrpersecmin     -1.077170e-02  2.925806e-17  2.154340e-02  \n",
       "wnd_spd_mtrpersecmax      3.647114e-03 -1.478111e-02 -2.279969e-02  \n",
       "sky_conditionmax          2.336126e-02  1.152007e-01  1.214660e-01  \n",
       "precip_hrlymin            4.927789e-03 -2.400792e-04 -4.788344e-03  \n",
       "precip_hrlymax            2.332530e-02  5.550442e-02  2.984507e-02  \n",
       "month_1                  -9.090909e-02 -9.090909e-02 -9.090909e-02  \n",
       "month_2                  -9.090909e-02 -9.090909e-02 -9.090909e-02  \n",
       "month_3                  -9.090909e-02 -9.090909e-02 -9.090909e-02  \n",
       "month_4                  -9.090909e-02 -9.090909e-02 -9.090909e-02  \n",
       "month_5                  -9.090909e-02 -9.090909e-02 -9.090909e-02  \n",
       "month_6                  -9.090909e-02 -9.090909e-02 -9.090909e-02  \n",
       "month_7                  -9.090909e-02 -9.090909e-02 -9.090909e-02  \n",
       "month_8                  -9.090909e-02 -9.090909e-02 -9.090909e-02  \n",
       "month_9                  -9.090909e-02 -9.090909e-02 -9.090909e-02  \n",
       "month_10                  1.000000e+00 -9.090909e-02 -9.090909e-02  \n",
       "month_11                 -9.090909e-02  1.000000e+00 -9.090909e-02  \n",
       "month_12                 -9.090909e-02 -9.090909e-02  1.000000e+00  \n",
       "\n",
       "[25 rows x 25 columns]"
      ]
     },
     "execution_count": 18,
     "metadata": {},
     "output_type": "execute_result"
    }
   ],
   "source": [
    "X.corr()"
   ]
  },
  {
   "cell_type": "markdown",
   "id": "c038cb42-776e-438a-a5ff-bb082ac866e2",
   "metadata": {},
   "source": [
    "#### Split for Validation"
   ]
  },
  {
   "cell_type": "code",
   "execution_count": 19,
   "id": "1c731b57-4695-41e9-a54b-254362a3f0d7",
   "metadata": {},
   "outputs": [],
   "source": [
    "X = X.values\n",
    "y = y.values\n",
    "X_train, X_test, y_train, y_test = train_test_split(X, y, test_size=0.2, random_state=42)"
   ]
  },
  {
   "cell_type": "markdown",
   "id": "86226433-d3eb-4de5-a488-87408d3cddc6",
   "metadata": {},
   "source": [
    "##### Scale raw (not balanced) vars"
   ]
  },
  {
   "cell_type": "code",
   "execution_count": 20,
   "id": "ea9894b6-6f17-4031-b097-e6d2fbf9263d",
   "metadata": {},
   "outputs": [],
   "source": [
    "# Compute the minimum value per feature on the training set\n",
    "min_on_training = X_train.min(axis=0)\n",
    "\n",
    "# Compute range on each feature\n",
    "range_on_training = (X_train - min_on_training).max(axis=0)\n",
    "\n",
    "# Normalize train X\n",
    "X_train_scaled = (X_train - min_on_training)/range_on_training\n",
    "\n",
    "# Normalize test X\n",
    "X_test_scaled = (X_test - min_on_training)/range_on_training"
   ]
  },
  {
   "cell_type": "markdown",
   "id": "6906f57a-4fed-4a39-b0c1-0c1c7bbfe281",
   "metadata": {},
   "source": [
    "## Baseline Models "
   ]
  },
  {
   "cell_type": "markdown",
   "id": "048d5362-fe7a-4464-817f-a3595c89a06a",
   "metadata": {},
   "source": [
    "### KNN"
   ]
  },
  {
   "cell_type": "markdown",
   "id": "572fdc2f-7872-480a-9b54-f9a08fbb9765",
   "metadata": {},
   "source": [
    "Raw"
   ]
  },
  {
   "cell_type": "code",
   "execution_count": 21,
   "id": "c36b7ab3-b5a5-47de-a3eb-44f6d78a92e8",
   "metadata": {},
   "outputs": [
    {
     "data": {
      "text/plain": [
       "2.4424462988947097e-07"
      ]
     },
     "execution_count": 21,
     "metadata": {},
     "output_type": "execute_result"
    }
   ],
   "source": [
    "reg = KNeighborsRegressor(n_neighbors=10)\n",
    "\n",
    "reg.fit(X_train_scaled, y_train)\n",
    "\n",
    "y_preds = reg.predict(X_test_scaled)\n",
    "\n",
    "rmse = np.sqrt(mean_squared_error(y_test, y_preds))\n",
    "rmse"
   ]
  },
  {
   "cell_type": "markdown",
   "id": "f988a09f-3e3d-44bf-aad7-2a8b92c92f18",
   "metadata": {},
   "source": [
    "Balanced"
   ]
  },
  {
   "cell_type": "code",
   "execution_count": 22,
   "id": "34e11477-8647-404f-ae24-2bc5271ad371",
   "metadata": {},
   "outputs": [
    {
     "data": {
      "text/plain": [
       "6.030309426243974e-07"
      ]
     },
     "execution_count": 22,
     "metadata": {},
     "output_type": "execute_result"
    }
   ],
   "source": [
    "reg = KNeighborsRegressor(n_neighbors=10)\n",
    "\n",
    "reg.fit(X_train_bal_scaled, y_train_bal)\n",
    "\n",
    "y_preds = reg.predict(X_test_bal_scaled)\n",
    "\n",
    "rmse = np.sqrt(mean_squared_error(y_test_bal, y_preds))\n",
    "rmse"
   ]
  },
  {
   "cell_type": "markdown",
   "id": "15f65a21-d306-435f-a57b-a5be886e0107",
   "metadata": {},
   "source": [
    "### Linear Regression "
   ]
  },
  {
   "cell_type": "markdown",
   "id": "4bb0b616-e81c-41d6-a5c4-ee3af639322b",
   "metadata": {},
   "source": [
    "Raw"
   ]
  },
  {
   "cell_type": "code",
   "execution_count": 23,
   "id": "3a50f804-d4b8-4a78-a17f-3f0a5bb504d4",
   "metadata": {},
   "outputs": [
    {
     "data": {
      "text/plain": [
       "5.050678035429983e-07"
      ]
     },
     "execution_count": 23,
     "metadata": {},
     "output_type": "execute_result"
    }
   ],
   "source": [
    "lr = LinearRegression().fit(X_train, y_train)\n",
    "\n",
    "y_preds = lr.predict(X_test_scaled)\n",
    "\n",
    "rmse = np.sqrt(mean_squared_error(y_test, y_preds))\n",
    "rmse"
   ]
  },
  {
   "cell_type": "markdown",
   "id": "140e1858-9c59-4f54-97ac-cd2afd981854",
   "metadata": {},
   "source": [
    "Balanced"
   ]
  },
  {
   "cell_type": "code",
   "execution_count": 24,
   "id": "a86f421e-2b72-4ec9-862a-be1210ba4cd9",
   "metadata": {},
   "outputs": [
    {
     "data": {
      "text/plain": [
       "5.597711477151465e-07"
      ]
     },
     "execution_count": 24,
     "metadata": {},
     "output_type": "execute_result"
    }
   ],
   "source": [
    "lr = LinearRegression().fit(X_train_bal_scaled, y_train_bal)\n",
    "\n",
    "y_preds = lr.predict(X_test_bal_scaled)\n",
    "\n",
    "rmse = np.sqrt(mean_squared_error(y_test_bal, y_preds))\n",
    "rmse"
   ]
  },
  {
   "cell_type": "markdown",
   "id": "7be353d9-d6ee-49a0-bc91-f4a5315424dc",
   "metadata": {},
   "source": [
    "### Ridge"
   ]
  },
  {
   "cell_type": "markdown",
   "id": "5d400593-7648-4a26-8e55-d93db6a73281",
   "metadata": {},
   "source": [
    "Raw"
   ]
  },
  {
   "cell_type": "code",
   "execution_count": 25,
   "id": "74f43756-f4b1-40c9-b8a3-64a7dd1d8b30",
   "metadata": {},
   "outputs": [
    {
     "data": {
      "text/plain": [
       "2.3014995833472946e-07"
      ]
     },
     "execution_count": 25,
     "metadata": {},
     "output_type": "execute_result"
    }
   ],
   "source": [
    "ridge = Ridge().fit(X_train_scaled, y_train)\n",
    "\n",
    "y_preds = ridge.predict(X_test_scaled)\n",
    "\n",
    "rmse = np.sqrt(mean_squared_error(y_test, y_preds))\n",
    "rmse"
   ]
  },
  {
   "cell_type": "markdown",
   "id": "14cad0f0-5b2e-4c97-bd06-fd283af9881d",
   "metadata": {},
   "source": [
    "Balanced"
   ]
  },
  {
   "cell_type": "code",
   "execution_count": 26,
   "id": "a88e9f99-0d8c-4f7d-8e4b-2e19e79ccc01",
   "metadata": {},
   "outputs": [
    {
     "data": {
      "text/plain": [
       "5.59846311993141e-07"
      ]
     },
     "execution_count": 26,
     "metadata": {},
     "output_type": "execute_result"
    }
   ],
   "source": [
    "ridge = Ridge().fit(X_train_bal_scaled, y_train_bal)\n",
    "\n",
    "y_preds = ridge.predict(X_test_bal_scaled)\n",
    "\n",
    "rmse = np.sqrt(mean_squared_error(y_test_bal, y_preds))\n",
    "rmse"
   ]
  },
  {
   "cell_type": "markdown",
   "id": "cb1fbd0c-bd91-45ba-93da-4bc64a0ad2b9",
   "metadata": {},
   "source": [
    "### Lasso "
   ]
  },
  {
   "cell_type": "markdown",
   "id": "bdb39c60-33bc-44d3-bd4f-95fbc7331cb6",
   "metadata": {},
   "source": [
    "Raw"
   ]
  },
  {
   "cell_type": "code",
   "execution_count": 27,
   "id": "647df412-1ddf-4353-acd7-74a8920cee54",
   "metadata": {},
   "outputs": [
    {
     "data": {
      "text/plain": [
       "2.2346137676436195e-07"
      ]
     },
     "execution_count": 27,
     "metadata": {},
     "output_type": "execute_result"
    }
   ],
   "source": [
    "lasso = Lasso().fit(X_train_scaled, y_train)\n",
    "\n",
    "y_preds = lasso.predict(X_test_scaled)\n",
    "\n",
    "rmse = np.sqrt(mean_squared_error(y_test, y_preds))\n",
    "rmse"
   ]
  },
  {
   "cell_type": "code",
   "execution_count": 28,
   "id": "138b5b41-cef2-4008-ab6f-fd3a9c25d792",
   "metadata": {},
   "outputs": [
    {
     "data": {
      "text/plain": [
       "2.2346137676436195e-07"
      ]
     },
     "execution_count": 28,
     "metadata": {},
     "output_type": "execute_result"
    }
   ],
   "source": [
    "lasso = Lasso(alpha=0.001, max_iter=100000).fit(X_train, y_train)\n",
    "\n",
    "y_preds = lasso.predict(X_test_scaled)\n",
    "\n",
    "rmse = np.sqrt(mean_squared_error(y_test, y_preds))\n",
    "rmse"
   ]
  },
  {
   "cell_type": "markdown",
   "id": "ba66eb86-9c58-48b9-af6a-d1d2bbd75337",
   "metadata": {},
   "source": [
    "Balanced"
   ]
  },
  {
   "cell_type": "code",
   "execution_count": 29,
   "id": "0191bb11-9d63-4cbb-a538-afd253104365",
   "metadata": {},
   "outputs": [
    {
     "data": {
      "text/plain": [
       "5.650797324886484e-07"
      ]
     },
     "execution_count": 29,
     "metadata": {},
     "output_type": "execute_result"
    }
   ],
   "source": [
    "lasso = Lasso().fit(X_train_bal_scaled, y_train_bal)\n",
    "\n",
    "y_preds = lasso.predict(X_test_bal_scaled)\n",
    "\n",
    "rmse = np.sqrt(mean_squared_error(y_test_bal, y_preds))\n",
    "rmse"
   ]
  },
  {
   "cell_type": "code",
   "execution_count": 30,
   "id": "84414634-03ae-48d5-afc0-dc52f3a65ff1",
   "metadata": {},
   "outputs": [
    {
     "data": {
      "text/plain": [
       "5.650797324886484e-07"
      ]
     },
     "execution_count": 30,
     "metadata": {},
     "output_type": "execute_result"
    }
   ],
   "source": [
    "lasso = Lasso(alpha=0.001, max_iter=100000).fit(X_train_bal_scaled, y_train_bal)\n",
    "\n",
    "y_preds = lasso.predict(X_test_bal_scaled)\n",
    "\n",
    "rmse = np.sqrt(mean_squared_error(y_test_bal, y_preds))\n",
    "rmse"
   ]
  },
  {
   "cell_type": "markdown",
   "id": "1c8e677d-07e9-48ce-a77a-cd9df4c538bb",
   "metadata": {},
   "source": [
    "## Decision Tree"
   ]
  },
  {
   "cell_type": "markdown",
   "id": "87222876-bf73-4108-afb6-3cca886f59e7",
   "metadata": {},
   "source": [
    "Raw"
   ]
  },
  {
   "cell_type": "code",
   "execution_count": 31,
   "id": "3b0d912a-c0be-443d-b234-53c4587e760b",
   "metadata": {},
   "outputs": [
    {
     "data": {
      "text/plain": [
       "2.9282640022527463e-07"
      ]
     },
     "execution_count": 31,
     "metadata": {},
     "output_type": "execute_result"
    }
   ],
   "source": [
    "tree = DecisionTreeRegressor(max_depth=3,random_state=0)\n",
    "tree.fit(X_train_scaled, y_train)\n",
    "\n",
    "y_preds = tree.predict(X_test_scaled)\n",
    "\n",
    "rmse = np.sqrt(mean_squared_error(y_test, y_preds))\n",
    "rmse"
   ]
  },
  {
   "cell_type": "markdown",
   "id": "ffed94ff-6532-4b35-9cad-66d18493a195",
   "metadata": {},
   "source": [
    "Balanced"
   ]
  },
  {
   "cell_type": "code",
   "execution_count": 32,
   "id": "daa3d17d-05f7-438b-8877-55c76446f10b",
   "metadata": {},
   "outputs": [
    {
     "data": {
      "text/plain": [
       "5.650797324886484e-07"
      ]
     },
     "execution_count": 32,
     "metadata": {},
     "output_type": "execute_result"
    }
   ],
   "source": [
    "tree = DecisionTreeRegressor(max_depth=3,random_state=0)\n",
    "tree.fit(X_train_bal_scaled, y_train_bal)\n",
    "\n",
    "y_preds = lasso.predict(X_test_bal_scaled)\n",
    "\n",
    "rmse = np.sqrt(mean_squared_error(y_test_bal, y_preds))\n",
    "rmse"
   ]
  },
  {
   "cell_type": "markdown",
   "id": "0add393f-d39e-450e-9eba-9cf54f073963",
   "metadata": {},
   "source": [
    "## Random Forest"
   ]
  },
  {
   "cell_type": "markdown",
   "id": "32f26845-73c6-4834-963d-0aa860aa2313",
   "metadata": {},
   "source": [
    "Raw"
   ]
  },
  {
   "cell_type": "code",
   "execution_count": 33,
   "id": "4b25c2b9-c5c9-4395-835e-3726acfa0b8e",
   "metadata": {},
   "outputs": [
    {
     "name": "stderr",
     "output_type": "stream",
     "text": [
      "C:\\Users\\CHRIST~1\\AppData\\Local\\Temp/ipykernel_3164/4005340652.py:2: DataConversionWarning: A column-vector y was passed when a 1d array was expected. Please change the shape of y to (n_samples,), for example using ravel().\n",
      "  regressor.fit(X_train_scaled, y_train)\n"
     ]
    },
    {
     "data": {
      "text/plain": [
       "2.251606310821253e-07"
      ]
     },
     "execution_count": 33,
     "metadata": {},
     "output_type": "execute_result"
    }
   ],
   "source": [
    "regressor = RandomForestRegressor(n_estimators=100,random_state=0)\n",
    "regressor.fit(X_train_scaled, y_train)\n",
    "\n",
    "y_preds = tree.predict(X_test_scaled)\n",
    "\n",
    "rmse = np.sqrt(mean_squared_error(y_test, y_preds))\n",
    "rmse"
   ]
  },
  {
   "cell_type": "markdown",
   "id": "16e309ce-e072-4629-bab0-e8ba4253916c",
   "metadata": {},
   "source": [
    "Balanced"
   ]
  },
  {
   "cell_type": "code",
   "execution_count": 34,
   "id": "9b839083-7b9b-48a9-b23f-1d7a992995c4",
   "metadata": {},
   "outputs": [
    {
     "name": "stderr",
     "output_type": "stream",
     "text": [
      "C:\\Users\\CHRIST~1\\AppData\\Local\\Temp/ipykernel_3164/103988673.py:2: DataConversionWarning: A column-vector y was passed when a 1d array was expected. Please change the shape of y to (n_samples,), for example using ravel().\n",
      "  regressor.fit(X_train_bal_scaled, y_train_bal)\n"
     ]
    },
    {
     "data": {
      "text/plain": [
       "5.507037084915353e-07"
      ]
     },
     "execution_count": 34,
     "metadata": {},
     "output_type": "execute_result"
    }
   ],
   "source": [
    "regressor = RandomForestRegressor(n_estimators=100,random_state=0)\n",
    "regressor.fit(X_train_bal_scaled, y_train_bal)\n",
    "\n",
    "y_preds = tree.predict(X_test_bal_scaled)\n",
    "\n",
    "rmse = np.sqrt(mean_squared_error(y_test_bal, y_preds))\n",
    "rmse"
   ]
  },
  {
   "cell_type": "markdown",
   "id": "94a0068b-389c-42da-bcca-77f35202a750",
   "metadata": {},
   "source": [
    "### SGD Regressor"
   ]
  },
  {
   "cell_type": "markdown",
   "id": "ffc437cd-5fde-4716-bd92-731c4ecd1dcc",
   "metadata": {},
   "source": [
    "Raw"
   ]
  },
  {
   "cell_type": "code",
   "execution_count": 35,
   "id": "9d912753-3ce4-4380-86ef-c3b2c1244788",
   "metadata": {},
   "outputs": [
    {
     "name": "stderr",
     "output_type": "stream",
     "text": [
      "C:\\Users\\Christian Conroy\\anaconda3\\lib\\site-packages\\sklearn\\utils\\validation.py:63: DataConversionWarning: A column-vector y was passed when a 1d array was expected. Please change the shape of y to (n_samples, ), for example using ravel().\n",
      "  return f(*args, **kwargs)\n"
     ]
    },
    {
     "data": {
      "text/plain": [
       "2.2714813966008742e-07"
      ]
     },
     "execution_count": 35,
     "metadata": {},
     "output_type": "execute_result"
    }
   ],
   "source": [
    "sgd_reg = SGDRegressor(penalty=\"l2\", max_iter=1000, tol=1e-3, random_state=42)\n",
    "sgd_reg.fit(X_train_scaled, y_train)\n",
    "\n",
    "y_preds = sgd_reg.predict(X_test_scaled)\n",
    "\n",
    "rmse = np.sqrt(mean_squared_error(y_test, y_preds))\n",
    "rmse"
   ]
  },
  {
   "cell_type": "markdown",
   "id": "1c29ecd9-3a1e-4c8e-9641-60c71d2b2af7",
   "metadata": {},
   "source": [
    "Balance"
   ]
  },
  {
   "cell_type": "code",
   "execution_count": 36,
   "id": "5a9f34c3-7a53-4afa-9415-4b25faa64f86",
   "metadata": {},
   "outputs": [
    {
     "name": "stderr",
     "output_type": "stream",
     "text": [
      "C:\\Users\\Christian Conroy\\anaconda3\\lib\\site-packages\\sklearn\\utils\\validation.py:63: DataConversionWarning: A column-vector y was passed when a 1d array was expected. Please change the shape of y to (n_samples, ), for example using ravel().\n",
      "  return f(*args, **kwargs)\n"
     ]
    },
    {
     "data": {
      "text/plain": [
       "5.621826293691378e-07"
      ]
     },
     "execution_count": 36,
     "metadata": {},
     "output_type": "execute_result"
    }
   ],
   "source": [
    "sgd_reg = SGDRegressor(penalty=\"l2\", max_iter=1000, tol=1e-3, random_state=42)\n",
    "sgd_reg.fit(X_train_bal_scaled, y_train_bal)\n",
    "\n",
    "y_preds = sgd_reg.predict(X_test_bal_scaled)\n",
    "\n",
    "rmse = np.sqrt(mean_squared_error(y_test_bal, y_preds))\n",
    "rmse"
   ]
  },
  {
   "cell_type": "markdown",
   "id": "4dc83ce6-a5c1-4673-82c9-d010d5036a22",
   "metadata": {},
   "source": [
    "## Gradient Boosted Regression Tree"
   ]
  },
  {
   "cell_type": "markdown",
   "id": "f2db845f-6880-4832-8528-373921efee13",
   "metadata": {},
   "source": [
    "Raw"
   ]
  },
  {
   "cell_type": "code",
   "execution_count": 37,
   "id": "a3771268-9be9-440a-92ec-d7525bf08c67",
   "metadata": {},
   "outputs": [
    {
     "name": "stderr",
     "output_type": "stream",
     "text": [
      "C:\\Users\\Christian Conroy\\anaconda3\\lib\\site-packages\\sklearn\\utils\\validation.py:63: DataConversionWarning: A column-vector y was passed when a 1d array was expected. Please change the shape of y to (n_samples, ), for example using ravel().\n",
      "  return f(*args, **kwargs)\n"
     ]
    },
    {
     "data": {
      "text/plain": [
       "2.5085824023407695e-07"
      ]
     },
     "execution_count": 37,
     "metadata": {},
     "output_type": "execute_result"
    }
   ],
   "source": [
    "gbrt = GradientBoostingRegressor(max_depth=2,n_estimators=200, learning_rate=0.1, random_state=42)\n",
    "gbrt.fit(X_train_scaled, y_train)\n",
    "\n",
    "y_preds = gbrt.predict(X_test_scaled)\n",
    "\n",
    "rmse = np.sqrt(mean_squared_error(y_test, y_preds))\n",
    "rmse"
   ]
  },
  {
   "cell_type": "markdown",
   "id": "0487e626-a02d-4e61-824d-75b30d583b05",
   "metadata": {},
   "source": [
    "Balanced"
   ]
  },
  {
   "cell_type": "code",
   "execution_count": 38,
   "id": "5119a38e-b607-4caf-93b9-7ff0a841a495",
   "metadata": {},
   "outputs": [
    {
     "name": "stderr",
     "output_type": "stream",
     "text": [
      "C:\\Users\\Christian Conroy\\anaconda3\\lib\\site-packages\\sklearn\\utils\\validation.py:63: DataConversionWarning: A column-vector y was passed when a 1d array was expected. Please change the shape of y to (n_samples, ), for example using ravel().\n",
      "  return f(*args, **kwargs)\n"
     ]
    },
    {
     "data": {
      "text/plain": [
       "5.818739938194459e-07"
      ]
     },
     "execution_count": 38,
     "metadata": {},
     "output_type": "execute_result"
    }
   ],
   "source": [
    "gbrt = GradientBoostingRegressor(max_depth=2,n_estimators=200, learning_rate=0.1, random_state=42)\n",
    "gbrt.fit(X_train_bal_scaled, y_train_bal)\n",
    "\n",
    "y_preds = gbrt.predict(X_test_bal_scaled)\n",
    "\n",
    "rmse = np.sqrt(mean_squared_error(y_test_bal, y_preds))\n",
    "rmse"
   ]
  },
  {
   "cell_type": "markdown",
   "id": "11e01004-f398-4d32-8168-2fe2d39914d6",
   "metadata": {},
   "source": [
    "## XG Boost"
   ]
  },
  {
   "cell_type": "markdown",
   "id": "fd2bc76a-bcdc-400a-a4e5-2f43fe7ad6c1",
   "metadata": {},
   "source": [
    "Raw"
   ]
  },
  {
   "cell_type": "code",
   "execution_count": 305,
   "id": "c816cbf0-a7eb-48b2-a687-fad7f0696146",
   "metadata": {},
   "outputs": [
    {
     "data": {
      "text/plain": [
       "2.6560586051932703e-09"
      ]
     },
     "execution_count": 305,
     "metadata": {},
     "output_type": "execute_result"
    }
   ],
   "source": [
    "xgb_reg = xgboost.XGBRegressor(random_state=42)\n",
    "xgb_reg.fit(X_train_scaled, y_train)\n",
    "\n",
    "y_preds = xgb_reg.predict(X_test_scaled)\n",
    "\n",
    "rmse = np.sqrt(mean_squared_error(y_test, y_preds))\n",
    "rmse"
   ]
  },
  {
   "cell_type": "markdown",
   "id": "fbc638aa-b591-4d2e-9948-0dc12eaec619",
   "metadata": {},
   "source": [
    "Balanced"
   ]
  },
  {
   "cell_type": "code",
   "execution_count": 39,
   "id": "7865f068-50da-4be1-bacb-fe41f86abfec",
   "metadata": {},
   "outputs": [
    {
     "data": {
      "text/plain": [
       "5.650797323649904e-07"
      ]
     },
     "execution_count": 39,
     "metadata": {},
     "output_type": "execute_result"
    }
   ],
   "source": [
    "xgb_reg = xgboost.XGBRegressor(random_state=42)\n",
    "xgb_reg.fit(X_train_bal_scaled, y_train_bal)\n",
    "\n",
    "y_preds = xgb_reg.predict(X_test_bal_scaled)\n",
    "\n",
    "rmse = np.sqrt(mean_squared_error(y_test_bal, y_preds))\n",
    "rmse"
   ]
  }
 ],
 "metadata": {
  "kernelspec": {
   "display_name": "Python 3 (ipykernel)",
   "language": "python",
   "name": "python3"
  },
  "language_info": {
   "codemirror_mode": {
    "name": "ipython",
    "version": 3
   },
   "file_extension": ".py",
   "mimetype": "text/x-python",
   "name": "python",
   "nbconvert_exporter": "python",
   "pygments_lexer": "ipython3",
   "version": "3.9.7"
  }
 },
 "nbformat": 4,
 "nbformat_minor": 5
}
